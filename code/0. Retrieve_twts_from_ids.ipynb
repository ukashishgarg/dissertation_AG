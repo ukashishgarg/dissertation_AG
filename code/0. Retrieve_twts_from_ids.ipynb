{
 "cells": [
  {
   "cell_type": "markdown",
   "metadata": {},
   "source": [
    "# Goal: Retrieve tweets from the tweet ids store in a CSV file\n",
    "*** \n",
    "\n",
    "References:\n",
    "1. https://morioh.com/p/eabbdfdd1f0b\n",
    "2. https://www.kaggle.com/anshuls235/data-wrangling-explained\n",
    "\n"
   ]
  },
  {
   "cell_type": "markdown",
   "metadata": {},
   "source": [
    "## Step 1: Get twitter handle by reading credentials store in a json file"
   ]
  },
  {
   "cell_type": "code",
   "execution_count": 6,
   "metadata": {},
   "outputs": [],
   "source": [
    "import json\n",
    "import csv\n",
    "import time\n",
    "import tweepy\n",
    "from tweepy.streaming import StreamListener\n",
    "from tweepy import OAuthHandler\n",
    "from tweepy import Stream #TwitterStreamManager\n",
    "from tweepy import API\n",
    "\n",
    "import os\n",
    "os.chdir(\"c://ConfidentialFolder/\")\n",
    "# retrieve credentials keys from the json file\n",
    "my_tweet_cred_file = 'twitter-credentials.json'\n",
    "json_file = open(my_tweet_cred_file)\n",
    "mytweetcred = json.load(json_file)\n",
    "json_file.close() \n",
    "\n",
    "# store credentials in the local variables \n",
    "consumer_key = mytweetcred['consumer_key']\n",
    "consumer_key_secret = mytweetcred['consumer_secret']\n",
    "access_token = mytweetcred['access_token']\n",
    "access_token_secret = mytweetcred['access_token_secret']\n",
    "\n",
    "# pass the credentials to the authentication process and get API handle\n",
    "auth = tweepy.OAuthHandler(consumer_key, consumer_key_secret)\n",
    "auth.set_access_token(access_token, access_token_secret)\n",
    "api = tweepy.API(auth)"
   ]
  },
  {
   "cell_type": "markdown",
   "metadata": {},
   "source": [
    "## Step 2: Declare file names that need to retrieve"
   ]
  },
  {
   "cell_type": "code",
   "execution_count": 16,
   "metadata": {},
   "outputs": [],
   "source": [
    "# declare folder path\n",
    "file_path = \"C://SHU/ResearchAndDissertation/final-dissertation/CoAID-master/\"\n",
    "\n",
    "# declare Claims (fake and real, tweets and replies to tweets)\n",
    "fake_claim_tweets = \"ClaimFakeCOVID-19_tweets\"\n",
    "fake_claim_tweets_replies = \"ClaimFakeCOVID-19_tweets_replies\"\n",
    "real_claim_tweets = \"ClaimRealCOVID-19_tweets\"\n",
    "real_claim_tweets_replies = \"ClaimRealCOVID-19_tweets_replies\"\n",
    "\n",
    "# declare News (fake and real, tweets and replies to tweets)\n",
    "fake_news_tweets = \"NewsFakeCOVID-19_tweets\"\n",
    "fake_news_tweets_replies = \"NewsFakeCOVID-19_tweets_replies\"\n",
    "real_news_tweets = \"NewsRealCOVID-19_tweets\"\n",
    "real_news_tweets_replies = \"NewsRealCOVID-19_tweets_replies\""
   ]
  },
  {
   "cell_type": "code",
   "execution_count": 1,
   "metadata": {},
   "outputs": [],
   "source": [
    "# from json.encoder import JSONEncoder\n",
    "tweet = api.get_status(\"1242474839966765056\")\n",
    "json_str = json.dumps(tweet._json)\n",
    "# JSONEncoder().encode(tweet)\n",
    "# datajson = json.dumps(tweet.__dict__)\n",
    "# datajson = json.dumps(tweet)\n",
    "print(json_str)"
   ]
  },
  {
   "cell_type": "code",
   "execution_count": null,
   "metadata": {},
   "outputs": [],
   "source": []
  },
  {
   "cell_type": "markdown",
   "metadata": {},
   "source": [
    "## Step3: Read CSV file"
   ]
  },
  {
   "cell_type": "code",
   "execution_count": 2,
   "metadata": {},
   "outputs": [],
   "source": [
    "inputfile = file_path+fake_claim_tweets+\".csv\"\n",
    "outputfile = file_path+fake_claim_tweets+\"_tweets.csv\"\n",
    "\n",
    "def ReadTweetTextFromCSV(inputfile):\n",
    "    # fill tweetid_list with data\n",
    "    tweetid_list = []\n",
    "    with open(inputfile, 'r') as csvfile:\n",
    "        line_reader = csv.reader(csvfile, delimiter=',', quotechar=\"\\\"\")\n",
    "        for row in line_reader:\n",
    "            tweetid_list.append({'index':row[0], 'tweet_id':row[1]})\n",
    "\n",
    "    # once tweetid_list got filled with data, loop through it\n",
    "    sleep_time = 2\n",
    "    fetched_tweet_ds = []\n",
    "    for tweet in tweetid_list: \n",
    "        try:\n",
    "            fetched_tweet = api.get_status(tweet[\"tweet_id\"])\n",
    "            print(\"Tweet fetched\" +fetched_tweet.text)\n",
    "            tweet[\"text\"] = fetched_tweet.text\n",
    "            fetched_tweet_ds.append(tweet)\n",
    "            time.sleep(sleep_time)\n",
    "        except: \n",
    "            print(\"Exception occured - no:2\")\n",
    "            continue\n",
    "    return fetched_tweet_ds\n",
    "\n",
    "def WriteTweetTextToCSV(inputfile, outputfile):\n",
    "    # fill tweetid_list with data\n",
    "    tweetid_list = []\n",
    "    with open(inputfile, 'r') as csvfile:\n",
    "        line_reader = csv.reader(csvfile, delimiter=',', quotechar=\"\\\"\")\n",
    "        for row in line_reader:\n",
    "            tweetid_list.append({'index':row[0], 'tweet_id':row[1]})\n",
    "\n",
    "    # once tweetid_list got filled with data, loop through it\n",
    "    sleep_time = 2\n",
    "    fetched_tweet_ds = []\n",
    "    for tweet in tweetid_list: \n",
    "        try:\n",
    "            fetched_tweet = api.get_status(tweet[\"tweet_id\"])\n",
    "            print(\"Tweet fetched\" +fetched_tweet.text)\n",
    "            tweet[\"text\"] = fetched_tweet.text\n",
    "            fetched_tweet_ds.append(tweet)\n",
    "            time.sleep(sleep_time)\n",
    "        except: \n",
    "            print(\"Exception occured - no:2\")\n",
    "            continue\n",
    "\n",
    "    # now open outputfile in a write mode and write the retrieved tweets back to it\n",
    "    with open(outputfile, 'w') as csvfile:\n",
    "        line_writer = csv.writer(csvfile, delimiter=',', quotechar=\"\\\"\")\n",
    "        for tweet in fetched_tweet_ds:\n",
    "            try:\n",
    "                line_writer.writerow([tweet[\"tweet_id\"], tweet[\"text\"]])\n",
    "            except Exception as e:\n",
    "                print(e)           "
   ]
  },
  {
   "cell_type": "code",
   "execution_count": 56,
   "metadata": {},
   "outputs": [
    {
     "name": "stdout",
     "output_type": "stream",
     "text": [
      "1248235247809867777: [{'code': 34, 'message': 'Sorry, that page does not exist.'}]\n",
      "1248235247809867777: [{'code': 34, 'message': 'Sorry, that page does not exist.'}]\n",
      "1248235247809867777: [{'code': 34, 'message': 'Sorry, that page does not exist.'}]\n",
      "1248235247809867777: [{'code': 34, 'message': 'Sorry, that page does not exist.'}]\n",
      "1248235247809867777: [{'code': 34, 'message': 'Sorry, that page does not exist.'}]\n",
      "1248235247809867777: [{'code': 34, 'message': 'Sorry, that page does not exist.'}]\n",
      "1248235247809867777: [{'code': 34, 'message': 'Sorry, that page does not exist.'}]\n",
      "1248235247809867777: [{'code': 34, 'message': 'Sorry, that page does not exist.'}]\n",
      "1242669446478671872: [{'code': 179, 'message': 'Sorry, you are not authorized to see this status.'}]\n",
      "1242669446478671872: [{'code': 179, 'message': 'Sorry, you are not authorized to see this status.'}]\n",
      "1240723147630018560: [{'code': 144, 'message': 'No status found with that ID.'}]\n",
      "1237061437400305664: [{'code': 179, 'message': 'Sorry, you are not authorized to see this status.'}]\n",
      "1237061437400305664: [{'code': 179, 'message': 'Sorry, you are not authorized to see this status.'}]\n",
      "1237061437400305664: [{'code': 179, 'message': 'Sorry, you are not authorized to see this status.'}]\n",
      "1237061437400305664: [{'code': 179, 'message': 'Sorry, you are not authorized to see this status.'}]\n"
     ]
    }
   ],
   "source": [
    "import pandas as pd \n",
    "df_twitter_archive = pd.read_csv(file_path+fake_claim_tweets_replies+\".csv\")\n",
    "for tweet_id in df_twitter_archive.tweet_id:\n",
    "    try:\n",
    "        tweet_json = api.get_status(tweet_id, tweet_mode = 'extented')\n",
    "        with open('tweet_json.txt', mode='a') as file:\n",
    "#             json.dump(tweet_json, file)\n",
    "            file.write(json.dumps(tweet_json._json))\n",
    "            file.write('\\n')\n",
    "    except Exception as e:\n",
    "        print(str(tweet_id) + ': ' + str(e))"
   ]
  },
  {
   "cell_type": "code",
   "execution_count": 57,
   "metadata": {},
   "outputs": [],
   "source": [
    "lists = [] #an empyty list to store a dictionaries\n",
    "with open('tweet_json.txt') as file:\n",
    "    lines = file.read().splitlines()\n",
    "    for line in lines:\n",
    "        data = json.loads(line)\n",
    "        row = {\n",
    "            'tweet_id'      : data['id'],\n",
    "            'retweet_count' : data['retweet_count'],\n",
    "            'favorite_count': data['favorite_count']\n",
    "        }\n",
    "        lists.append(row)\n",
    "df_tweet_data = pd.DataFrame(lists,columns=['tweet_id','retweet_count','favorite_count'])"
   ]
  },
  {
   "cell_type": "code",
   "execution_count": 71,
   "metadata": {},
   "outputs": [
    {
     "data": {
      "text/plain": [
       "127"
      ]
     },
     "execution_count": 71,
     "metadata": {},
     "output_type": "execute_result"
    }
   ],
   "source": [
    "df_tweet_data.tweet_id.nunique()"
   ]
  },
  {
   "cell_type": "code",
   "execution_count": 68,
   "metadata": {},
   "outputs": [
    {
     "data": {
      "text/html": [
       "<div>\n",
       "<style scoped>\n",
       "    .dataframe tbody tr th:only-of-type {\n",
       "        vertical-align: middle;\n",
       "    }\n",
       "\n",
       "    .dataframe tbody tr th {\n",
       "        vertical-align: top;\n",
       "    }\n",
       "\n",
       "    .dataframe thead th {\n",
       "        text-align: right;\n",
       "    }\n",
       "</style>\n",
       "<table border=\"1\" class=\"dataframe\">\n",
       "  <thead>\n",
       "    <tr style=\"text-align: right;\">\n",
       "      <th></th>\n",
       "      <th>tweet_id</th>\n",
       "      <th>retweet_count</th>\n",
       "      <th>favorite_count</th>\n",
       "    </tr>\n",
       "  </thead>\n",
       "  <tbody>\n",
       "    <tr>\n",
       "      <th>22</th>\n",
       "      <td>1251668952993927170</td>\n",
       "      <td>95</td>\n",
       "      <td>176</td>\n",
       "    </tr>\n",
       "    <tr>\n",
       "      <th>14</th>\n",
       "      <td>1251668952993927170</td>\n",
       "      <td>95</td>\n",
       "      <td>176</td>\n",
       "    </tr>\n",
       "    <tr>\n",
       "      <th>24</th>\n",
       "      <td>1251668952993927170</td>\n",
       "      <td>95</td>\n",
       "      <td>176</td>\n",
       "    </tr>\n",
       "    <tr>\n",
       "      <th>23</th>\n",
       "      <td>1251668952993927170</td>\n",
       "      <td>95</td>\n",
       "      <td>176</td>\n",
       "    </tr>\n",
       "    <tr>\n",
       "      <th>21</th>\n",
       "      <td>1251668952993927170</td>\n",
       "      <td>95</td>\n",
       "      <td>176</td>\n",
       "    </tr>\n",
       "    <tr>\n",
       "      <th>...</th>\n",
       "      <td>...</td>\n",
       "      <td>...</td>\n",
       "      <td>...</td>\n",
       "    </tr>\n",
       "    <tr>\n",
       "      <th>318</th>\n",
       "      <td>1248621932104151042</td>\n",
       "      <td>0</td>\n",
       "      <td>0</td>\n",
       "    </tr>\n",
       "    <tr>\n",
       "      <th>317</th>\n",
       "      <td>1248621932104151042</td>\n",
       "      <td>0</td>\n",
       "      <td>0</td>\n",
       "    </tr>\n",
       "    <tr>\n",
       "      <th>316</th>\n",
       "      <td>1248621932104151042</td>\n",
       "      <td>0</td>\n",
       "      <td>0</td>\n",
       "    </tr>\n",
       "    <tr>\n",
       "      <th>315</th>\n",
       "      <td>1248621932104151042</td>\n",
       "      <td>0</td>\n",
       "      <td>0</td>\n",
       "    </tr>\n",
       "    <tr>\n",
       "      <th>607</th>\n",
       "      <td>1240247344131493888</td>\n",
       "      <td>0</td>\n",
       "      <td>4</td>\n",
       "    </tr>\n",
       "  </tbody>\n",
       "</table>\n",
       "<p>608 rows × 3 columns</p>\n",
       "</div>"
      ],
      "text/plain": [
       "                tweet_id  retweet_count  favorite_count\n",
       "22   1251668952993927170             95             176\n",
       "14   1251668952993927170             95             176\n",
       "24   1251668952993927170             95             176\n",
       "23   1251668952993927170             95             176\n",
       "21   1251668952993927170             95             176\n",
       "..                   ...            ...             ...\n",
       "318  1248621932104151042              0               0\n",
       "317  1248621932104151042              0               0\n",
       "316  1248621932104151042              0               0\n",
       "315  1248621932104151042              0               0\n",
       "607  1240247344131493888              0               4\n",
       "\n",
       "[608 rows x 3 columns]"
      ]
     },
     "execution_count": 68,
     "metadata": {},
     "output_type": "execute_result"
    }
   ],
   "source": [
    "df_tweet_data.sort_values(by=\"retweet_count\", ascending=False)"
   ]
  },
  {
   "cell_type": "code",
   "execution_count": 64,
   "metadata": {},
   "outputs": [
    {
     "data": {
      "text/plain": [
       "131"
      ]
     },
     "execution_count": 64,
     "metadata": {},
     "output_type": "execute_result"
    }
   ],
   "source": [
    "# df_twitter_archive\n",
    "df_twitter_archive.tweet_id.nunique()"
   ]
  },
  {
   "cell_type": "code",
   "execution_count": null,
   "metadata": {},
   "outputs": [],
   "source": []
  },
  {
   "cell_type": "code",
   "execution_count": null,
   "metadata": {},
   "outputs": [],
   "source": []
  }
 ],
 "metadata": {
  "kernelspec": {
   "display_name": "Python 3",
   "language": "python",
   "name": "python3"
  },
  "language_info": {
   "codemirror_mode": {
    "name": "ipython",
    "version": 3
   },
   "file_extension": ".py",
   "mimetype": "text/x-python",
   "name": "python",
   "nbconvert_exporter": "python",
   "pygments_lexer": "ipython3",
   "version": "3.7.6"
  }
 },
 "nbformat": 4,
 "nbformat_minor": 4
}
