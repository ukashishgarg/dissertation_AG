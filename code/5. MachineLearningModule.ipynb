{
 "cells": [
  {
   "cell_type": "code",
   "execution_count": 1,
   "metadata": {},
   "outputs": [],
   "source": [
    "import warnings\n",
    "warnings.filterwarnings('ignore')"
   ]
  },
  {
   "cell_type": "code",
   "execution_count": 2,
   "metadata": {},
   "outputs": [],
   "source": [
    "# general untility libraries\n",
    "import pandas as pd\n",
    "import numpy as np\n",
    "import matplotlib.pyplot as plt\n",
    "import seaborn as sns\n",
    "\n",
    "# machine learning libraries \n",
    "from sklearn import model_selection, naive_bayes, svm\n",
    "from sklearn.preprocessing import FunctionTransformer, OneHotEncoder, LabelBinarizer, LabelEncoder\n",
    "from sklearn.feature_extraction.text import TfidfVectorizer\n",
    "from sklearn.pipeline import Pipeline\n",
    "from sklearn.ensemble import RandomForestClassifier\n",
    "from sklearn.linear_model import LogisticRegression\n",
    "from sklearn.svm import SVC, LinearSVC\n",
    "from sklearn.neighbors import KNeighborsClassifier\n",
    "import scipy\n",
    "\n",
    "from sklearn.model_selection import train_test_split, GridSearchCV, StratifiedKFold, cross_val_score\n",
    "from sklearn.metrics import f1_score, roc_curve, precision_recall_curve, auc, make_scorer, recall_score, accuracy_score, precision_score, confusion_matrix"
   ]
  },
  {
   "cell_type": "code",
   "execution_count": 3,
   "metadata": {},
   "outputs": [
    {
     "data": {
      "text/plain": [
       "(27499, 8)"
      ]
     },
     "execution_count": 3,
     "metadata": {},
     "output_type": "execute_result"
    }
   ],
   "source": [
    "# read csv file \n",
    "df = pd.read_csv(\"C://GoogleDrive/dissertation/data/output/final.csv\")\n",
    "\n",
    "# get shape\n",
    "df.shape"
   ]
  },
  {
   "cell_type": "code",
   "execution_count": 4,
   "metadata": {},
   "outputs": [
    {
     "data": {
      "text/html": [
       "<div>\n",
       "<style scoped>\n",
       "    .dataframe tbody tr th:only-of-type {\n",
       "        vertical-align: middle;\n",
       "    }\n",
       "\n",
       "    .dataframe tbody tr th {\n",
       "        vertical-align: top;\n",
       "    }\n",
       "\n",
       "    .dataframe thead th {\n",
       "        text-align: right;\n",
       "    }\n",
       "</style>\n",
       "<table border=\"1\" class=\"dataframe\">\n",
       "  <thead>\n",
       "    <tr style=\"text-align: right;\">\n",
       "      <th></th>\n",
       "      <th>usrvrfd</th>\n",
       "      <th>label</th>\n",
       "      <th>txt</th>\n",
       "      <th>wrdsize</th>\n",
       "      <th>url</th>\n",
       "      <th>mention</th>\n",
       "      <th>charsize</th>\n",
       "      <th>puncsize</th>\n",
       "    </tr>\n",
       "  </thead>\n",
       "  <tbody>\n",
       "    <tr>\n",
       "      <th>0</th>\n",
       "      <td>False</td>\n",
       "      <td>real</td>\n",
       "      <td>coronavirus disease covid affect eyes review c...</td>\n",
       "      <td>large</td>\n",
       "      <td>absent</td>\n",
       "      <td>present</td>\n",
       "      <td>large</td>\n",
       "      <td>more</td>\n",
       "    </tr>\n",
       "    <tr>\n",
       "      <th>1</th>\n",
       "      <td>False</td>\n",
       "      <td>real</td>\n",
       "      <td>covid vaccine candidate shows promise first pe...</td>\n",
       "      <td>large</td>\n",
       "      <td>absent</td>\n",
       "      <td>absent</td>\n",
       "      <td>medium</td>\n",
       "      <td>more</td>\n",
       "    </tr>\n",
       "    <tr>\n",
       "      <th>2</th>\n",
       "      <td>False</td>\n",
       "      <td>real</td>\n",
       "      <td>many front line staff self isolating took test...</td>\n",
       "      <td>large</td>\n",
       "      <td>present</td>\n",
       "      <td>absent</td>\n",
       "      <td>medium</td>\n",
       "      <td>less</td>\n",
       "    </tr>\n",
       "    <tr>\n",
       "      <th>3</th>\n",
       "      <td>False</td>\n",
       "      <td>real</td>\n",
       "      <td>please abandon pets due unfounded fear spreadi...</td>\n",
       "      <td>large</td>\n",
       "      <td>absent</td>\n",
       "      <td>present</td>\n",
       "      <td>large</td>\n",
       "      <td>more</td>\n",
       "    </tr>\n",
       "    <tr>\n",
       "      <th>4</th>\n",
       "      <td>False</td>\n",
       "      <td>real</td>\n",
       "      <td>notext nohashtags haraldharefoot nooter vinland</td>\n",
       "      <td>small</td>\n",
       "      <td>present</td>\n",
       "      <td>absent</td>\n",
       "      <td>small</td>\n",
       "      <td>more</td>\n",
       "    </tr>\n",
       "  </tbody>\n",
       "</table>\n",
       "</div>"
      ],
      "text/plain": [
       "   usrvrfd label                                                txt wrdsize  \\\n",
       "0    False  real  coronavirus disease covid affect eyes review c...   large   \n",
       "1    False  real  covid vaccine candidate shows promise first pe...   large   \n",
       "2    False  real  many front line staff self isolating took test...   large   \n",
       "3    False  real  please abandon pets due unfounded fear spreadi...   large   \n",
       "4    False  real    notext nohashtags haraldharefoot nooter vinland   small   \n",
       "\n",
       "       url  mention charsize puncsize  \n",
       "0   absent  present    large     more  \n",
       "1   absent   absent   medium     more  \n",
       "2  present   absent   medium     less  \n",
       "3   absent  present    large     more  \n",
       "4  present   absent    small     more  "
      ]
     },
     "execution_count": 4,
     "metadata": {},
     "output_type": "execute_result"
    }
   ],
   "source": [
    "df.head()"
   ]
  },
  {
   "cell_type": "markdown",
   "metadata": {},
   "source": [
    "## Perform encoding for ML algorithms\n",
    "***"
   ]
  },
  {
   "cell_type": "markdown",
   "metadata": {},
   "source": [
    "### Separate class variable with the rest\n",
    "***"
   ]
  },
  {
   "cell_type": "code",
   "execution_count": 4,
   "metadata": {},
   "outputs": [],
   "source": [
    "from sklearn.preprocessing import LabelEncoder\n",
    "\n",
    "# create label encoder object\n",
    "lbl_encoder = LabelEncoder()\n",
    "\n",
    "# encode label feature to 0 and 1\n",
    "y = lbl_encoder.fit_transform(df['label'])\n",
    "\n",
    "# Get all the non label features to one variable \n",
    "X = df.drop(columns='label', axis=1)"
   ]
  },
  {
   "cell_type": "markdown",
   "metadata": {},
   "source": [
    "### Split the dataset to train and test\n",
    "***"
   ]
  },
  {
   "cell_type": "code",
   "execution_count": 5,
   "metadata": {},
   "outputs": [],
   "source": [
    "# split dataset into training and test \n",
    "X_train, X_test, y_train, y_test = train_test_split(X,y, test_size=0.33, random_state=12)"
   ]
  },
  {
   "cell_type": "markdown",
   "metadata": {},
   "source": [
    "### Create pipeline\n",
    "***\n",
    "\n",
    "Ref: https://stackoverflow.com/questions/57867974/one-pipeline-to-fit-both-text-and-categorical-features"
   ]
  },
  {
   "cell_type": "code",
   "execution_count": 6,
   "metadata": {},
   "outputs": [],
   "source": [
    "from sklearn.compose import ColumnTransformer\n",
    "from sklearn.preprocessing import Normalizer\n",
    "\n",
    "ct = ColumnTransformer(\n",
    "    transformers=[\n",
    "        ('text', TfidfVectorizer(max_features=5000), 'txt'), #TfidfVectorizer accepts column name only between quotes\n",
    "        ('category', OneHotEncoder(), ['usrvrfd','wrdsize','url','mention','charsize','puncsize']),\n",
    "        ],\n",
    "    )\n",
    "pipe = Pipeline(\n",
    "        steps=[\n",
    "                ('preprocessor', ct),\n",
    "                ('classifier', LogisticRegression()),\n",
    "            ],\n",
    "        )\n",
    "\n",
    "df_encode_train = ct.fit_transform(X_train)\n",
    "df_encode_test = ct.fit_transform(X_test)"
   ]
  },
  {
   "cell_type": "code",
   "execution_count": null,
   "metadata": {},
   "outputs": [],
   "source": []
  },
  {
   "cell_type": "code",
   "execution_count": 7,
   "metadata": {},
   "outputs": [
    {
     "data": {
      "text/plain": [
       "((18424, 5014), (9075, 5014))"
      ]
     },
     "execution_count": 7,
     "metadata": {},
     "output_type": "execute_result"
    }
   ],
   "source": [
    "df_encode_train.shape, df_encode_test.shape"
   ]
  },
  {
   "cell_type": "markdown",
   "metadata": {},
   "source": [
    "## Perform model training\n",
    "***"
   ]
  },
  {
   "cell_type": "markdown",
   "metadata": {},
   "source": [
    "### Create common fuctions and variables used by all the models\n",
    "***"
   ]
  },
  {
   "cell_type": "code",
   "execution_count": 8,
   "metadata": {},
   "outputs": [],
   "source": [
    "# evaluation scorers \n",
    "scorers = {\n",
    "    'precision_score': make_scorer(precision_score),\n",
    "    'recall_score': make_scorer(recall_score),\n",
    "    'accuracy_score': make_scorer(accuracy_score),\n",
    "    'f1_score': make_scorer(f1_score)\n",
    "}\n",
    "\n",
    "# evaluation parameters\n",
    "evaluation_params = ['mean_test_f1_score','mean_test_precision_score', 'mean_test_recall_score', 'mean_test_accuracy_score']\n",
    "\n",
    "# a function that train all the ml models with different parameters \n",
    "def grid_search_wrapper(ml_model, param_grid, crss_val=5, refit_score='precision_score'):\n",
    "    \"\"\"\n",
    "    fits a GridSearchCV classifier using refit_score for optimization\n",
    "    prints classifier performance metrics\n",
    "    \"\"\"\n",
    "    skf = StratifiedKFold(n_splits=crss_val)\n",
    "    grid_search = GridSearchCV(ml_model, param_grid, scoring=scorers, refit=refit_score,\n",
    "                           cv=skf, return_train_score=True, n_jobs=-1)\n",
    "    grid_search.fit(df_encode_train, y_train)\n",
    "\n",
    "    # make the predictions\n",
    "    y_pred = grid_search.predict(df_encode_test)\n",
    "\n",
    "    print('Best params for {}'.format(refit_score))\n",
    "    print(grid_search.best_params_)\n",
    "\n",
    "    return grid_search\n",
    "\n",
    "# a function to return the result in a sorted order in pandas dataframe form\n",
    "def GetResult(grdSrchObj):\n",
    "    # Thanks to the article for the help. https://towardsdatascience.com/fine-tuning-a-classifier-in-scikit-learn-66e048c21e65\n",
    "    results = pd.DataFrame(grdSrchObj.cv_results_)\n",
    "    results = results.sort_values(by='mean_test_precision_score', ascending=False)\n",
    "    return results"
   ]
  },
  {
   "cell_type": "markdown",
   "metadata": {},
   "source": [
    "### 1. Random Forest classifier\n",
    "***\n",
    "\n",
    "#### Without parameter tuning"
   ]
  },
  {
   "cell_type": "code",
   "execution_count": 37,
   "metadata": {},
   "outputs": [
    {
     "name": "stdout",
     "output_type": "stream",
     "text": [
      "Random forest Accuracy without performance tuning ->  78.50137741046832\n"
     ]
    }
   ],
   "source": [
    "rf = RandomForestClassifier()\n",
    "rf.fit(df_encode_train,y_train)\n",
    "\n",
    "# predict the labels on validation dataset\n",
    "pred_rf = rf.predict(df_encode_test)\n",
    "\n",
    "# Use accuracy_score function to get the accuracy\n",
    "print(\"Random forest Accuracy without performance tuning -> \",accuracy_score(pred_rf, y_test)*100)"
   ]
  },
  {
   "cell_type": "markdown",
   "metadata": {},
   "source": [
    "#### With parameter tuning"
   ]
  },
  {
   "cell_type": "code",
   "execution_count": 34,
   "metadata": {},
   "outputs": [
    {
     "name": "stdout",
     "output_type": "stream",
     "text": [
      "Best params for precision_score\n",
      "{'min_samples_split': 5, 'n_estimators': 100}\n"
     ]
    },
    {
     "data": {
      "text/html": [
       "<div>\n",
       "<style scoped>\n",
       "    .dataframe tbody tr th:only-of-type {\n",
       "        vertical-align: middle;\n",
       "    }\n",
       "\n",
       "    .dataframe tbody tr th {\n",
       "        vertical-align: top;\n",
       "    }\n",
       "\n",
       "    .dataframe thead th {\n",
       "        text-align: right;\n",
       "    }\n",
       "</style>\n",
       "<table border=\"1\" class=\"dataframe\">\n",
       "  <thead>\n",
       "    <tr style=\"text-align: right;\">\n",
       "      <th></th>\n",
       "      <th>mean_test_f1_score</th>\n",
       "      <th>mean_test_precision_score</th>\n",
       "      <th>mean_test_recall_score</th>\n",
       "      <th>mean_test_accuracy_score</th>\n",
       "      <th>param_min_samples_split</th>\n",
       "      <th>param_n_estimators</th>\n",
       "    </tr>\n",
       "  </thead>\n",
       "  <tbody>\n",
       "    <tr>\n",
       "      <th>2</th>\n",
       "      <td>0.918542</td>\n",
       "      <td>0.886212</td>\n",
       "      <td>0.953341</td>\n",
       "      <td>0.869789</td>\n",
       "      <td>5</td>\n",
       "      <td>100</td>\n",
       "    </tr>\n",
       "    <tr>\n",
       "      <th>1</th>\n",
       "      <td>0.918753</td>\n",
       "      <td>0.885986</td>\n",
       "      <td>0.954045</td>\n",
       "      <td>0.870060</td>\n",
       "      <td>3</td>\n",
       "      <td>300</td>\n",
       "    </tr>\n",
       "    <tr>\n",
       "      <th>0</th>\n",
       "      <td>0.918006</td>\n",
       "      <td>0.885272</td>\n",
       "      <td>0.953270</td>\n",
       "      <td>0.868866</td>\n",
       "      <td>3</td>\n",
       "      <td>100</td>\n",
       "    </tr>\n",
       "    <tr>\n",
       "      <th>3</th>\n",
       "      <td>0.918630</td>\n",
       "      <td>0.885092</td>\n",
       "      <td>0.954821</td>\n",
       "      <td>0.869735</td>\n",
       "      <td>5</td>\n",
       "      <td>300</td>\n",
       "    </tr>\n",
       "    <tr>\n",
       "      <th>5</th>\n",
       "      <td>0.918173</td>\n",
       "      <td>0.884493</td>\n",
       "      <td>0.954539</td>\n",
       "      <td>0.868975</td>\n",
       "      <td>10</td>\n",
       "      <td>300</td>\n",
       "    </tr>\n",
       "    <tr>\n",
       "      <th>4</th>\n",
       "      <td>0.918109</td>\n",
       "      <td>0.883999</td>\n",
       "      <td>0.954962</td>\n",
       "      <td>0.868812</td>\n",
       "      <td>10</td>\n",
       "      <td>100</td>\n",
       "    </tr>\n",
       "  </tbody>\n",
       "</table>\n",
       "</div>"
      ],
      "text/plain": [
       "   mean_test_f1_score  mean_test_precision_score  mean_test_recall_score  \\\n",
       "2            0.918542                   0.886212                0.953341   \n",
       "1            0.918753                   0.885986                0.954045   \n",
       "0            0.918006                   0.885272                0.953270   \n",
       "3            0.918630                   0.885092                0.954821   \n",
       "5            0.918173                   0.884493                0.954539   \n",
       "4            0.918109                   0.883999                0.954962   \n",
       "\n",
       "   mean_test_accuracy_score param_min_samples_split param_n_estimators  \n",
       "2                  0.869789                       5                100  \n",
       "1                  0.870060                       3                300  \n",
       "0                  0.868866                       3                100  \n",
       "3                  0.869735                       5                300  \n",
       "5                  0.868975                      10                300  \n",
       "4                  0.868812                      10                100  "
      ]
     },
     "execution_count": 34,
     "metadata": {},
     "output_type": "execute_result"
    }
   ],
   "source": [
    "clf = RandomForestClassifier(n_jobs=-1)\n",
    "rnd_frst_params = ['param_min_samples_split', 'param_n_estimators']\n",
    "combined_params = evaluation_params + rnd_frst_params\n",
    "\n",
    "param_grid = {\n",
    "    'min_samples_split': [3, 5, 10], \n",
    "    'n_estimators' : [100, 300]\n",
    "}\n",
    "\n",
    "grid_search_clf = grid_search_wrapper(clf, param_grid, refit_score='precision_score')\n",
    "results = GetResult(grid_search_clf)\n",
    "results[combined_params].sort_values(by='mean_test_precision_score', ascending=False)"
   ]
  },
  {
   "cell_type": "markdown",
   "metadata": {},
   "source": [
    "### 2. Logistic regression\n",
    "***\n",
    "\n",
    "#### Without parameter tuning "
   ]
  },
  {
   "cell_type": "code",
   "execution_count": 14,
   "metadata": {},
   "outputs": [
    {
     "name": "stdout",
     "output_type": "stream",
     "text": [
      "Random forest Accuracy without performance tuning ->  77.63085399449035\n"
     ]
    }
   ],
   "source": [
    "lr = LogisticRegression()\n",
    "lr.fit(df_encode_train,y_train)\n",
    "\n",
    "# predict the labels on validation dataset\n",
    "pred_lr = lr.predict(df_encode_test)\n",
    "\n",
    "# Use accuracy_score function to get the accuracy\n",
    "print(\"Random forest Accuracy without performance tuning -> \",accuracy_score(pred_lr, y_test)*100)"
   ]
  },
  {
   "cell_type": "markdown",
   "metadata": {},
   "source": [
    "#### With parameter tuning"
   ]
  },
  {
   "cell_type": "code",
   "execution_count": 38,
   "metadata": {},
   "outputs": [
    {
     "name": "stdout",
     "output_type": "stream",
     "text": [
      "Best params for precision_score\n",
      "{'C': 1000, 'solver': 'lbfgs'}\n"
     ]
    },
    {
     "data": {
      "text/html": [
       "<div>\n",
       "<style scoped>\n",
       "    .dataframe tbody tr th:only-of-type {\n",
       "        vertical-align: middle;\n",
       "    }\n",
       "\n",
       "    .dataframe tbody tr th {\n",
       "        vertical-align: top;\n",
       "    }\n",
       "\n",
       "    .dataframe thead th {\n",
       "        text-align: right;\n",
       "    }\n",
       "</style>\n",
       "<table border=\"1\" class=\"dataframe\">\n",
       "  <thead>\n",
       "    <tr style=\"text-align: right;\">\n",
       "      <th></th>\n",
       "      <th>mean_test_f1_score</th>\n",
       "      <th>mean_test_precision_score</th>\n",
       "      <th>mean_test_recall_score</th>\n",
       "      <th>mean_test_accuracy_score</th>\n",
       "      <th>param_solver</th>\n",
       "      <th>param_C</th>\n",
       "    </tr>\n",
       "  </thead>\n",
       "  <tbody>\n",
       "    <tr>\n",
       "      <th>4</th>\n",
       "      <td>0.930636</td>\n",
       "      <td>0.924239</td>\n",
       "      <td>0.937130</td>\n",
       "      <td>0.892423</td>\n",
       "      <td>lbfgs</td>\n",
       "      <td>1000</td>\n",
       "    </tr>\n",
       "    <tr>\n",
       "      <th>7</th>\n",
       "      <td>0.929956</td>\n",
       "      <td>0.923791</td>\n",
       "      <td>0.936214</td>\n",
       "      <td>0.891392</td>\n",
       "      <td>lbfgs</td>\n",
       "      <td>10000000000</td>\n",
       "    </tr>\n",
       "    <tr>\n",
       "      <th>5</th>\n",
       "      <td>0.916102</td>\n",
       "      <td>0.919070</td>\n",
       "      <td>0.913166</td>\n",
       "      <td>0.871201</td>\n",
       "      <td>liblinear</td>\n",
       "      <td>1000</td>\n",
       "    </tr>\n",
       "    <tr>\n",
       "      <th>3</th>\n",
       "      <td>0.915692</td>\n",
       "      <td>0.918888</td>\n",
       "      <td>0.912532</td>\n",
       "      <td>0.870604</td>\n",
       "      <td>newton-cg</td>\n",
       "      <td>1000</td>\n",
       "    </tr>\n",
       "    <tr>\n",
       "      <th>8</th>\n",
       "      <td>0.902898</td>\n",
       "      <td>0.915893</td>\n",
       "      <td>0.890399</td>\n",
       "      <td>0.852638</td>\n",
       "      <td>liblinear</td>\n",
       "      <td>10000000000</td>\n",
       "    </tr>\n",
       "  </tbody>\n",
       "</table>\n",
       "</div>"
      ],
      "text/plain": [
       "   mean_test_f1_score  mean_test_precision_score  mean_test_recall_score  \\\n",
       "4            0.930636                   0.924239                0.937130   \n",
       "7            0.929956                   0.923791                0.936214   \n",
       "5            0.916102                   0.919070                0.913166   \n",
       "3            0.915692                   0.918888                0.912532   \n",
       "8            0.902898                   0.915893                0.890399   \n",
       "\n",
       "   mean_test_accuracy_score param_solver      param_C  \n",
       "4                  0.892423        lbfgs         1000  \n",
       "7                  0.891392        lbfgs  10000000000  \n",
       "5                  0.871201    liblinear         1000  \n",
       "3                  0.870604    newton-cg         1000  \n",
       "8                  0.852638    liblinear  10000000000  "
      ]
     },
     "execution_count": 38,
     "metadata": {},
     "output_type": "execute_result"
    }
   ],
   "source": [
    "# Initiate Logistic regression model\n",
    "model_lr = LogisticRegression()\n",
    "rnd_frst_params = ['param_solver', 'param_C']\n",
    "combined_params = evaluation_params + rnd_frst_params\n",
    "\n",
    "# set hyper parameters\n",
    "param_grid = {\n",
    "    'solver': ['newton-cg', 'lbfgs', 'liblinear'], \n",
    "    'C': [1, 1000, 10000000000]\n",
    "}\n",
    "\n",
    "grid_search_lr = grid_search_wrapper(model_lr, param_grid, refit_score='precision_score')\n",
    "results = GetResult(grid_search_lr)\n",
    "results[combined_params].sort_values(by='mean_test_precision_score', ascending=False).head(5)\n",
    "# df_result = results[combined_params].round(3).head()\n",
    "# df_result"
   ]
  },
  {
   "cell_type": "markdown",
   "metadata": {},
   "source": [
    "### 3. SVM Model\n",
    "***\n",
    "\n",
    "#### Without parameter tuning"
   ]
  },
  {
   "cell_type": "code",
   "execution_count": 52,
   "metadata": {},
   "outputs": [
    {
     "name": "stdout",
     "output_type": "stream",
     "text": [
      "Random forest Accuracy without performance tuning ->  78.92011019283747\n"
     ]
    }
   ],
   "source": [
    "svm = SVC()\n",
    "svm.fit(df_encode_train,y_train)\n",
    "\n",
    "# predict the labels on validation dataset\n",
    "pred_svm = svm.predict(df_encode_test)\n",
    "\n",
    "# Use accuracy_score function to get the accuracy\n",
    "print(\"Random forest Accuracy without performance tuning -> \",accuracy_score(pred_svm, y_test)*100)"
   ]
  },
  {
   "cell_type": "markdown",
   "metadata": {},
   "source": [
    "#### With parameter tuning"
   ]
  },
  {
   "cell_type": "code",
   "execution_count": 41,
   "metadata": {},
   "outputs": [
    {
     "name": "stdout",
     "output_type": "stream",
     "text": [
      "Time taken by SVM model:  261.9601743000003\n"
     ]
    },
    {
     "data": {
      "text/html": [
       "<div>\n",
       "<style scoped>\n",
       "    .dataframe tbody tr th:only-of-type {\n",
       "        vertical-align: middle;\n",
       "    }\n",
       "\n",
       "    .dataframe tbody tr th {\n",
       "        vertical-align: top;\n",
       "    }\n",
       "\n",
       "    .dataframe thead th {\n",
       "        text-align: right;\n",
       "    }\n",
       "</style>\n",
       "<table border=\"1\" class=\"dataframe\">\n",
       "  <thead>\n",
       "    <tr style=\"text-align: right;\">\n",
       "      <th></th>\n",
       "      <th>mean_test_f1_score</th>\n",
       "      <th>mean_test_precision_score</th>\n",
       "      <th>mean_test_recall_score</th>\n",
       "      <th>mean_test_accuracy_score</th>\n",
       "      <th>param_kernel</th>\n",
       "      <th>param_C</th>\n",
       "    </tr>\n",
       "  </thead>\n",
       "  <tbody>\n",
       "    <tr>\n",
       "      <th>0</th>\n",
       "      <td>0.941</td>\n",
       "      <td>0.910</td>\n",
       "      <td>0.973</td>\n",
       "      <td>0.906</td>\n",
       "      <td>linear</td>\n",
       "      <td>1</td>\n",
       "    </tr>\n",
       "    <tr>\n",
       "      <th>1</th>\n",
       "      <td>0.843</td>\n",
       "      <td>0.814</td>\n",
       "      <td>0.874</td>\n",
       "      <td>0.750</td>\n",
       "      <td>sigmoid</td>\n",
       "      <td>1</td>\n",
       "    </tr>\n",
       "  </tbody>\n",
       "</table>\n",
       "</div>"
      ],
      "text/plain": [
       "   mean_test_f1_score  mean_test_precision_score  mean_test_recall_score  \\\n",
       "0               0.941                      0.910                   0.973   \n",
       "1               0.843                      0.814                   0.874   \n",
       "\n",
       "   mean_test_accuracy_score param_kernel param_C  \n",
       "0                     0.906       linear       1  \n",
       "1                     0.750      sigmoid       1  "
      ]
     },
     "execution_count": 41,
     "metadata": {},
     "output_type": "execute_result"
    }
   ],
   "source": [
    "import timeit\n",
    "start_time = timeit.default_timer()\n",
    " \n",
    "model_svm = SVC()\n",
    "svm_params = ['param_kernel', 'param_C']\n",
    "combined_params = evaluation_params + svm_params\n",
    "\n",
    "# define parameters \n",
    "param_grid = {\n",
    "    'kernel': ['linear', 'sigmoid'], \n",
    "#     'C': [1, 1000, 10000000000]\n",
    "    'C': [1]\n",
    "}\n",
    "\n",
    "grid_search_lr = grid_search_wrapper(model_svm, param_grid, refit_score='precision_score')\n",
    "results = GetResult(grid_search_lr)\n",
    "df_result = results[combined_params].round(3).head()\n",
    "\n",
    "end_time = timeit.default_timer()\n",
    "print('Time taken by SVM model: ', end_time - start_time) \n",
    "df_result"
   ]
  },
  {
   "cell_type": "markdown",
   "metadata": {},
   "source": [
    "## 4. Linear SVC model\n",
    "***\n",
    "\n",
    "#### Without parameter tuning"
   ]
  },
  {
   "cell_type": "code",
   "execution_count": 54,
   "metadata": {},
   "outputs": [
    {
     "name": "stdout",
     "output_type": "stream",
     "text": [
      "Linear SVC Accuracy (without performance tuning) ->  72.94765840220386\n"
     ]
    }
   ],
   "source": [
    "svm = LinearSVC()\n",
    "svm.fit(df_encode_train,y_train)\n",
    "\n",
    "# predict the labels on validation dataset\n",
    "pred_svm = svm.predict(df_encode_test)\n",
    "\n",
    "# Use accuracy_score function to get the accuracy\n",
    "print(\"Linear SVC Accuracy (without performance tuning) -> \",accuracy_score(pred_svm, y_test)*100)"
   ]
  },
  {
   "cell_type": "markdown",
   "metadata": {},
   "source": [
    "#### With parameter tuning"
   ]
  },
  {
   "cell_type": "code",
   "execution_count": 64,
   "metadata": {},
   "outputs": [
    {
     "name": "stdout",
     "output_type": "stream",
     "text": [
      "Best params for precision_score\n",
      "{'loss': 'squared_hinge', 'multi_class': 'ovr', 'penalty': 'l2'}\n",
      "Time taken by SVM model: 35 seconds.\n"
     ]
    },
    {
     "data": {
      "text/html": [
       "<div>\n",
       "<style scoped>\n",
       "    .dataframe tbody tr th:only-of-type {\n",
       "        vertical-align: middle;\n",
       "    }\n",
       "\n",
       "    .dataframe tbody tr th {\n",
       "        vertical-align: top;\n",
       "    }\n",
       "\n",
       "    .dataframe thead th {\n",
       "        text-align: right;\n",
       "    }\n",
       "</style>\n",
       "<table border=\"1\" class=\"dataframe\">\n",
       "  <thead>\n",
       "    <tr style=\"text-align: right;\">\n",
       "      <th></th>\n",
       "      <th>mean_test_f1_score</th>\n",
       "      <th>mean_test_precision_score</th>\n",
       "      <th>mean_test_recall_score</th>\n",
       "      <th>mean_test_accuracy_score</th>\n",
       "      <th>param_penalty</th>\n",
       "      <th>param_loss</th>\n",
       "      <th>param_multi_class</th>\n",
       "    </tr>\n",
       "  </thead>\n",
       "  <tbody>\n",
       "    <tr>\n",
       "      <th>2</th>\n",
       "      <td>0.938</td>\n",
       "      <td>0.920</td>\n",
       "      <td>0.957</td>\n",
       "      <td>0.902</td>\n",
       "      <td>l2</td>\n",
       "      <td>squared_hinge</td>\n",
       "      <td>ovr</td>\n",
       "    </tr>\n",
       "    <tr>\n",
       "      <th>1</th>\n",
       "      <td>0.939</td>\n",
       "      <td>0.917</td>\n",
       "      <td>0.962</td>\n",
       "      <td>0.903</td>\n",
       "      <td>l2</td>\n",
       "      <td>hinge</td>\n",
       "      <td>crammer_singer</td>\n",
       "    </tr>\n",
       "    <tr>\n",
       "      <th>3</th>\n",
       "      <td>0.939</td>\n",
       "      <td>0.917</td>\n",
       "      <td>0.962</td>\n",
       "      <td>0.903</td>\n",
       "      <td>l2</td>\n",
       "      <td>squared_hinge</td>\n",
       "      <td>crammer_singer</td>\n",
       "    </tr>\n",
       "    <tr>\n",
       "      <th>0</th>\n",
       "      <td>0.941</td>\n",
       "      <td>0.910</td>\n",
       "      <td>0.973</td>\n",
       "      <td>0.906</td>\n",
       "      <td>l2</td>\n",
       "      <td>hinge</td>\n",
       "      <td>ovr</td>\n",
       "    </tr>\n",
       "  </tbody>\n",
       "</table>\n",
       "</div>"
      ],
      "text/plain": [
       "   mean_test_f1_score  mean_test_precision_score  mean_test_recall_score  \\\n",
       "2               0.938                      0.920                   0.957   \n",
       "1               0.939                      0.917                   0.962   \n",
       "3               0.939                      0.917                   0.962   \n",
       "0               0.941                      0.910                   0.973   \n",
       "\n",
       "   mean_test_accuracy_score param_penalty     param_loss param_multi_class  \n",
       "2                     0.902            l2  squared_hinge               ovr  \n",
       "1                     0.903            l2          hinge    crammer_singer  \n",
       "3                     0.903            l2  squared_hinge    crammer_singer  \n",
       "0                     0.906            l2          hinge               ovr  "
      ]
     },
     "execution_count": 64,
     "metadata": {},
     "output_type": "execute_result"
    }
   ],
   "source": [
    "import timeit\n",
    "start_time = timeit.default_timer()\n",
    " \n",
    "model_lsvc = LinearSVC()\n",
    "svm_params = ['param_penalty', 'param_loss','param_multi_class']\n",
    "combined_params = evaluation_params + svm_params\n",
    "\n",
    "# define parameters \n",
    "param_grid = {\n",
    "    'penalty': ['l2'],\n",
    "    'loss': ['hinge', 'squared_hinge'],\n",
    "    'multi_class': ['ovr', 'crammer_singer']\n",
    "}\n",
    "\n",
    "grid_search_lr = grid_search_wrapper(model_lsvc, param_grid, refit_score='precision_score')\n",
    "results = GetResult(grid_search_lr)\n",
    "df_result = results[combined_params].round(3).head()\n",
    "\n",
    "end_time = timeit.default_timer()\n",
    "dur_secs = int(end_time - start_time)\n",
    "dur_mins = round(dur_secs/60, 1)\n",
    "print('Time taken by SVM model: {} seconds.'.format(dur_secs)) \n",
    "df_result"
   ]
  },
  {
   "cell_type": "markdown",
   "metadata": {},
   "source": [
    "## 5. Naive Bayes \n",
    "***\n",
    "\n",
    "#### Without parameter tuning"
   ]
  },
  {
   "cell_type": "code",
   "execution_count": 11,
   "metadata": {},
   "outputs": [
    {
     "name": "stdout",
     "output_type": "stream",
     "text": [
      "Random forest Accuracy without performance tuning ->  77.168044077135\n"
     ]
    }
   ],
   "source": [
    "nb = naive_bayes.MultinomialNB()\n",
    "nb.fit(df_encode_train,y_train)\n",
    "\n",
    "# predict the labels on validation dataset\n",
    "pred_nb = nb.predict(df_encode_test)\n",
    "\n",
    "# Use accuracy_score function to get the accuracy\n",
    "print(\"Naive Bayes Accuracy (without performance tuning) -> \",accuracy_score(pred_nb, y_test)*100)"
   ]
  },
  {
   "cell_type": "markdown",
   "metadata": {},
   "source": [
    "#### With parameter tuning"
   ]
  },
  {
   "cell_type": "code",
   "execution_count": 33,
   "metadata": {},
   "outputs": [
    {
     "name": "stdout",
     "output_type": "stream",
     "text": [
      "Best params for accuracy_score\n",
      "{'alpha': 1e-09, 'class_prior': None, 'fit_prior': True}\n"
     ]
    },
    {
     "data": {
      "text/html": [
       "<div>\n",
       "<style scoped>\n",
       "    .dataframe tbody tr th:only-of-type {\n",
       "        vertical-align: middle;\n",
       "    }\n",
       "\n",
       "    .dataframe tbody tr th {\n",
       "        vertical-align: top;\n",
       "    }\n",
       "\n",
       "    .dataframe thead th {\n",
       "        text-align: right;\n",
       "    }\n",
       "</style>\n",
       "<table border=\"1\" class=\"dataframe\">\n",
       "  <thead>\n",
       "    <tr style=\"text-align: right;\">\n",
       "      <th></th>\n",
       "      <th>mean_test_f1_score</th>\n",
       "      <th>mean_test_precision_score</th>\n",
       "      <th>mean_test_recall_score</th>\n",
       "      <th>mean_test_accuracy_score</th>\n",
       "      <th>param_alpha</th>\n",
       "      <th>param_class_prior</th>\n",
       "      <th>param_fit_prior</th>\n",
       "    </tr>\n",
       "  </thead>\n",
       "  <tbody>\n",
       "    <tr>\n",
       "      <th>2</th>\n",
       "      <td>0.917168</td>\n",
       "      <td>0.916188</td>\n",
       "      <td>0.918171</td>\n",
       "      <td>0.872286</td>\n",
       "      <td>1e-09</td>\n",
       "      <td>None</td>\n",
       "      <td>True</td>\n",
       "    </tr>\n",
       "    <tr>\n",
       "      <th>0</th>\n",
       "      <td>0.916590</td>\n",
       "      <td>0.916938</td>\n",
       "      <td>0.916268</td>\n",
       "      <td>0.871581</td>\n",
       "      <td>0.0001</td>\n",
       "      <td>None</td>\n",
       "      <td>True</td>\n",
       "    </tr>\n",
       "    <tr>\n",
       "      <th>3</th>\n",
       "      <td>0.910134</td>\n",
       "      <td>0.924171</td>\n",
       "      <td>0.896532</td>\n",
       "      <td>0.863656</td>\n",
       "      <td>1e-09</td>\n",
       "      <td>None</td>\n",
       "      <td>False</td>\n",
       "    </tr>\n",
       "    <tr>\n",
       "      <th>1</th>\n",
       "      <td>0.909009</td>\n",
       "      <td>0.928502</td>\n",
       "      <td>0.890330</td>\n",
       "      <td>0.862733</td>\n",
       "      <td>0.0001</td>\n",
       "      <td>None</td>\n",
       "      <td>False</td>\n",
       "    </tr>\n",
       "    <tr>\n",
       "      <th>4</th>\n",
       "      <td>0.884013</td>\n",
       "      <td>0.895028</td>\n",
       "      <td>0.873274</td>\n",
       "      <td>0.823546</td>\n",
       "      <td>1</td>\n",
       "      <td>None</td>\n",
       "      <td>True</td>\n",
       "    </tr>\n",
       "  </tbody>\n",
       "</table>\n",
       "</div>"
      ],
      "text/plain": [
       "   mean_test_f1_score  mean_test_precision_score  mean_test_recall_score  \\\n",
       "2            0.917168                   0.916188                0.918171   \n",
       "0            0.916590                   0.916938                0.916268   \n",
       "3            0.910134                   0.924171                0.896532   \n",
       "1            0.909009                   0.928502                0.890330   \n",
       "4            0.884013                   0.895028                0.873274   \n",
       "\n",
       "   mean_test_accuracy_score param_alpha param_class_prior param_fit_prior  \n",
       "2                  0.872286       1e-09              None            True  \n",
       "0                  0.871581      0.0001              None            True  \n",
       "3                  0.863656       1e-09              None           False  \n",
       "1                  0.862733      0.0001              None           False  \n",
       "4                  0.823546           1              None            True  "
      ]
     },
     "execution_count": 33,
     "metadata": {},
     "output_type": "execute_result"
    }
   ],
   "source": [
    "from sklearn.naive_bayes import MultinomialNB\n",
    "\n",
    "mnb = MultinomialNB()\n",
    "mnb_params = ['param_alpha', 'param_class_prior', 'param_fit_prior']\n",
    "combined_params = evaluation_params + mnb_params\n",
    "param_grid = {\n",
    "    'alpha': [0.0001, 0.000000001, 1.0], \n",
    "    'class_prior' : [None],\n",
    "    'fit_prior':[True, False]\n",
    "}\n",
    "\n",
    "grid_search_clf = grid_search_wrapper(mnb, param_grid, refit_score='accuracy_score')\n",
    "results_mnb = GetResult(grid_search_clf)\n",
    "results_mnb[combined_params].sort_values(by='mean_test_accuracy_score', ascending=False).head(5)"
   ]
  },
  {
   "cell_type": "markdown",
   "metadata": {},
   "source": [
    "## 6. KNN (K-Nearest kneighbour)\n",
    "***\n",
    "\n",
    "#### Without parameter tuning"
   ]
  },
  {
   "cell_type": "code",
   "execution_count": 68,
   "metadata": {},
   "outputs": [
    {
     "name": "stdout",
     "output_type": "stream",
     "text": [
      "Nearest kneighbour -KNN- accuracy (without performance tuning) ->  76.45179063360882\n"
     ]
    }
   ],
   "source": [
    "knn = KNeighborsClassifier()\n",
    "knn.fit(df_encode_train,y_train)\n",
    "\n",
    "# predict the labels on validation dataset\n",
    "pred_knn = knn.predict(df_encode_test)\n",
    "\n",
    "# Use accuracy_score function to get the accuracy\n",
    "print(\"Nearest kneighbour -KNN- accuracy (without performance tuning) -> \",accuracy_score(pred_knn, y_test)*100)"
   ]
  },
  {
   "cell_type": "markdown",
   "metadata": {},
   "source": [
    "#### With parameter tuning"
   ]
  },
  {
   "cell_type": "code",
   "execution_count": 9,
   "metadata": {},
   "outputs": [
    {
     "name": "stdout",
     "output_type": "stream",
     "text": [
      "Best params for precision_score\n",
      "{'n_neighbors': 5, 'p': 1}\n",
      "Time taken by nearest kneighbour (KNN) model: 193 secs.\n"
     ]
    },
    {
     "data": {
      "text/html": [
       "<div>\n",
       "<style scoped>\n",
       "    .dataframe tbody tr th:only-of-type {\n",
       "        vertical-align: middle;\n",
       "    }\n",
       "\n",
       "    .dataframe tbody tr th {\n",
       "        vertical-align: top;\n",
       "    }\n",
       "\n",
       "    .dataframe thead th {\n",
       "        text-align: right;\n",
       "    }\n",
       "</style>\n",
       "<table border=\"1\" class=\"dataframe\">\n",
       "  <thead>\n",
       "    <tr style=\"text-align: right;\">\n",
       "      <th></th>\n",
       "      <th>mean_test_f1_score</th>\n",
       "      <th>mean_test_precision_score</th>\n",
       "      <th>mean_test_recall_score</th>\n",
       "      <th>mean_test_accuracy_score</th>\n",
       "      <th>param_n_neighbors</th>\n",
       "      <th>param_p</th>\n",
       "    </tr>\n",
       "  </thead>\n",
       "  <tbody>\n",
       "    <tr>\n",
       "      <th>0</th>\n",
       "      <td>0.888</td>\n",
       "      <td>0.863</td>\n",
       "      <td>0.915</td>\n",
       "      <td>0.822</td>\n",
       "      <td>5</td>\n",
       "      <td>1</td>\n",
       "    </tr>\n",
       "  </tbody>\n",
       "</table>\n",
       "</div>"
      ],
      "text/plain": [
       "   mean_test_f1_score  mean_test_precision_score  mean_test_recall_score  \\\n",
       "0               0.888                      0.863                   0.915   \n",
       "\n",
       "   mean_test_accuracy_score param_n_neighbors param_p  \n",
       "0                     0.822                 5       1  "
      ]
     },
     "execution_count": 9,
     "metadata": {},
     "output_type": "execute_result"
    }
   ],
   "source": [
    "import timeit\n",
    "start_time = timeit.default_timer()\n",
    " \n",
    "model_KNN = KNeighborsClassifier()\n",
    "knn_params = ['param_n_neighbors', 'param_p']\n",
    "combined_params = evaluation_params + knn_params\n",
    "\n",
    "# define parameters \n",
    "param_grid = {\n",
    "    'n_neighbors': [5], \n",
    "    'p': [1]\n",
    "}\n",
    "\n",
    "grid_search_knn = grid_search_wrapper(model_KNN, param_grid, refit_score='precision_score')\n",
    "results = GetResult(grid_search_knn)\n",
    "df_result = results[combined_params].round(3).head()\n",
    "\n",
    "end_time = timeit.default_timer()\n",
    "print('Time taken by nearest kneighbour (KNN) model: {} secs.'.format(int(end_time - start_time))) \n",
    "df_result"
   ]
  },
  {
   "cell_type": "markdown",
   "metadata": {},
   "source": [
    "# Deep learning algorithms\n",
    "***\n",
    "\n",
    "This is totally a different way and hence handling it separately"
   ]
  },
  {
   "cell_type": "code",
   "execution_count": 4,
   "metadata": {},
   "outputs": [],
   "source": [
    "# KERAS library use for the neural network related work preprocessing and other important work\n",
    "from keras.preprocessing.text import Tokenizer\n",
    "from keras.preprocessing import sequence\n",
    "from keras.layers import LSTM, Activation, Dense, Dropout, Input, Embedding\n",
    "from keras.models import Model\n",
    "from keras.optimizers import RMSprop\n",
    "from keras import backend as K\n",
    "from keras.callbacks import EarlyStopping\n",
    "\n",
    "# Tensorflow provides key algorithm for modeling\n",
    "import tensorflow as tf\n",
    "import tensorflow_hub as hub\n",
    "from tensorflow.keras.layers import Dense, Dropout\n",
    "from tensorflow.keras.models import Sequential\n",
    "from tensorflow.keras.wrappers.scikit_learn import KerasClassifier"
   ]
  },
  {
   "cell_type": "code",
   "execution_count": 6,
   "metadata": {},
   "outputs": [
    {
     "data": {
      "text/html": [
       "<div>\n",
       "<style scoped>\n",
       "    .dataframe tbody tr th:only-of-type {\n",
       "        vertical-align: middle;\n",
       "    }\n",
       "\n",
       "    .dataframe tbody tr th {\n",
       "        vertical-align: top;\n",
       "    }\n",
       "\n",
       "    .dataframe thead th {\n",
       "        text-align: right;\n",
       "    }\n",
       "</style>\n",
       "<table border=\"1\" class=\"dataframe\">\n",
       "  <thead>\n",
       "    <tr style=\"text-align: right;\">\n",
       "      <th></th>\n",
       "      <th>usrvrfd</th>\n",
       "      <th>label</th>\n",
       "      <th>txt</th>\n",
       "      <th>wrdsize</th>\n",
       "      <th>url</th>\n",
       "      <th>mention</th>\n",
       "      <th>charsize</th>\n",
       "      <th>puncsize</th>\n",
       "    </tr>\n",
       "  </thead>\n",
       "  <tbody>\n",
       "    <tr>\n",
       "      <th>0</th>\n",
       "      <td>False</td>\n",
       "      <td>real</td>\n",
       "      <td>coronavirus disease covid affect eyes review c...</td>\n",
       "      <td>large</td>\n",
       "      <td>absent</td>\n",
       "      <td>present</td>\n",
       "      <td>large</td>\n",
       "      <td>more</td>\n",
       "    </tr>\n",
       "    <tr>\n",
       "      <th>1</th>\n",
       "      <td>False</td>\n",
       "      <td>real</td>\n",
       "      <td>covid vaccine candidate shows promise first pe...</td>\n",
       "      <td>large</td>\n",
       "      <td>absent</td>\n",
       "      <td>absent</td>\n",
       "      <td>medium</td>\n",
       "      <td>more</td>\n",
       "    </tr>\n",
       "    <tr>\n",
       "      <th>2</th>\n",
       "      <td>False</td>\n",
       "      <td>real</td>\n",
       "      <td>many front line staff self isolating took test...</td>\n",
       "      <td>large</td>\n",
       "      <td>present</td>\n",
       "      <td>absent</td>\n",
       "      <td>medium</td>\n",
       "      <td>less</td>\n",
       "    </tr>\n",
       "    <tr>\n",
       "      <th>3</th>\n",
       "      <td>False</td>\n",
       "      <td>real</td>\n",
       "      <td>please abandon pets due unfounded fear spreadi...</td>\n",
       "      <td>large</td>\n",
       "      <td>absent</td>\n",
       "      <td>present</td>\n",
       "      <td>large</td>\n",
       "      <td>more</td>\n",
       "    </tr>\n",
       "    <tr>\n",
       "      <th>4</th>\n",
       "      <td>False</td>\n",
       "      <td>real</td>\n",
       "      <td>notext nohashtags haraldharefoot nooter vinland</td>\n",
       "      <td>small</td>\n",
       "      <td>present</td>\n",
       "      <td>absent</td>\n",
       "      <td>small</td>\n",
       "      <td>more</td>\n",
       "    </tr>\n",
       "  </tbody>\n",
       "</table>\n",
       "</div>"
      ],
      "text/plain": [
       "   usrvrfd label                                                txt wrdsize  \\\n",
       "0    False  real  coronavirus disease covid affect eyes review c...   large   \n",
       "1    False  real  covid vaccine candidate shows promise first pe...   large   \n",
       "2    False  real  many front line staff self isolating took test...   large   \n",
       "3    False  real  please abandon pets due unfounded fear spreadi...   large   \n",
       "4    False  real    notext nohashtags haraldharefoot nooter vinland   small   \n",
       "\n",
       "       url  mention charsize puncsize  \n",
       "0   absent  present    large     more  \n",
       "1   absent   absent   medium     more  \n",
       "2  present   absent   medium     less  \n",
       "3   absent  present    large     more  \n",
       "4  present   absent    small     more  "
      ]
     },
     "execution_count": 6,
     "metadata": {},
     "output_type": "execute_result"
    }
   ],
   "source": [
    "df.head()"
   ]
  },
  {
   "cell_type": "code",
   "execution_count": null,
   "metadata": {},
   "outputs": [],
   "source": []
  },
  {
   "cell_type": "code",
   "execution_count": null,
   "metadata": {},
   "outputs": [],
   "source": [
    "#categorical data\n",
    "cat_columns = ['wrdsize', 'url', 'mention', 'charsize', 'puncsize', 'usrvrfd']\n",
    "\n",
    "#import pandas as pd\n",
    "df_encode = pd.get_dummies(df, columns = cat_columns)\n",
    "\n",
    "# display output\n",
    "df_encode.head(2)"
   ]
  },
  {
   "cell_type": "code",
   "execution_count": 19,
   "metadata": {},
   "outputs": [
    {
     "data": {
      "text/plain": [
       "((7, 27499), (18424,))"
      ]
     },
     "execution_count": 19,
     "metadata": {},
     "output_type": "execute_result"
    }
   ],
   "source": [
    "max_words = 5000\n",
    "max_len = df.shape[0]\n",
    "tok = Tokenizer(num_words=max_words)\n",
    "tok.fit_on_texts(X_train)\n",
    "sequences = tok.texts_to_sequences(X_train)\n",
    "sequences_matrix = sequence.pad_sequences(sequences,maxlen=max_len)\n",
    "\n",
    "sequences_matrix.shape, y_train.shape"
   ]
  },
  {
   "cell_type": "code",
   "execution_count": 23,
   "metadata": {},
   "outputs": [
    {
     "data": {
      "text/plain": [
       "array([[0, 0, 0, ..., 0, 0, 1],\n",
       "       [0, 0, 0, ..., 0, 0, 2],\n",
       "       [0, 0, 0, ..., 0, 0, 3],\n",
       "       ...,\n",
       "       [0, 0, 0, ..., 0, 0, 5],\n",
       "       [0, 0, 0, ..., 0, 0, 6],\n",
       "       [0, 0, 0, ..., 0, 0, 7]])"
      ]
     },
     "execution_count": 23,
     "metadata": {},
     "output_type": "execute_result"
    }
   ],
   "source": [
    "sequences_matrix"
   ]
  },
  {
   "cell_type": "code",
   "execution_count": 28,
   "metadata": {},
   "outputs": [],
   "source": [
    "max_words = 5000\n",
    "max_len = 150\n",
    "\n",
    "# split data to train and test\n",
    "X = df.txt\n",
    "Y = df.label\n",
    "le = LabelEncoder()\n",
    "Y = le.fit_transform(Y)\n",
    "Y = Y.reshape(-1,1)\n",
    "\n",
    "X_train,X_test,Y_train,Y_test = train_test_split(X,Y,test_size=0.15)\n",
    "\n",
    "# do text tokenization for machine to read the train data\n",
    "tok = Tokenizer(num_words=max_words)\n",
    "tok.fit_on_texts(X_train)\n",
    "sequences = tok.texts_to_sequences(X_train)\n",
    "sequences_matrix = sequence.pad_sequences(sequences,maxlen=max_len)\n",
    "\n",
    "# X_train,X_test,Y_train,Y_test\n",
    "X_train_prcs = tok.texts_to_sequences(X_train)\n",
    "X_train_prcs = sequence.pad_sequences(X_train_prcs, maxlen=max_len)\n",
    "\n",
    "X_test_prcs = tok.texts_to_sequences(X_test)\n",
    "X_test_prcs = sequence.pad_sequences(X_test_prcs, maxlen=max_len)"
   ]
  },
  {
   "cell_type": "code",
   "execution_count": 29,
   "metadata": {},
   "outputs": [
    {
     "data": {
      "text/plain": [
       "(23374, 150)"
      ]
     },
     "execution_count": 29,
     "metadata": {},
     "output_type": "execute_result"
    }
   ],
   "source": [
    "X_train_prcs.shape"
   ]
  },
  {
   "cell_type": "code",
   "execution_count": null,
   "metadata": {},
   "outputs": [],
   "source": []
  }
 ],
 "metadata": {
  "kernelspec": {
   "display_name": "Python 3",
   "language": "python",
   "name": "python3"
  },
  "language_info": {
   "codemirror_mode": {
    "name": "ipython",
    "version": 3
   },
   "file_extension": ".py",
   "mimetype": "text/x-python",
   "name": "python",
   "nbconvert_exporter": "python",
   "pygments_lexer": "ipython3",
   "version": "3.7.6"
  }
 },
 "nbformat": 4,
 "nbformat_minor": 4
}
